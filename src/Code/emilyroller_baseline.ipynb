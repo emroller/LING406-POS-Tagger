{
 "metadata": {
  "language_info": {
   "codemirror_mode": {
    "name": "ipython",
    "version": 3
   },
   "file_extension": ".py",
   "mimetype": "text/x-python",
   "name": "python",
   "nbconvert_exporter": "python",
   "pygments_lexer": "ipython3",
   "version": "3.8.2-final"
  },
  "orig_nbformat": 2,
  "kernelspec": {
   "name": "python3",
   "display_name": "Python 3.8.2 64-bit",
   "metadata": {
    "interpreter": {
     "hash": "31f2aee4e71d21fbe5cf8b01ff0e069b9275f58929596ceb00d14d90e3e16cd6"
    }
   }
  }
 },
 "nbformat": 4,
 "nbformat_minor": 2,
 "cells": [
  {
   "cell_type": "code",
   "execution_count": 1,
   "metadata": {},
   "outputs": [],
   "source": [
    "# Baseline model for POS tagger"
   ]
  },
  {
   "cell_type": "code",
   "execution_count": 10,
   "metadata": {},
   "outputs": [],
   "source": [
    "import string\n",
    "import pandas as pd\n",
    "import numpy as np\n",
    "import sklearn as sk\n",
    "from sklearn.naive_bayes import GaussianNB\n",
    "from sklearn.tree import DecisionTreeClassifier\n",
    "from sklearn.dummy import DummyClassifier\n",
    "from sklearn.model_selection import KFold\n",
    "from sklearn.metrics import precision_recall_fscore_support, f1_score, precision_score, recall_score, accuracy_score\n",
    "from sklearn.feature_extraction import DictVectorizer\n"
   ]
  },
  {
   "cell_type": "code",
   "execution_count": 11,
   "metadata": {},
   "outputs": [],
   "source": [
    "# read in the data file\n",
    "df = pd.read_csv(\"/Users/emilyroller/Downloads/assignment-3-emroller-main/src/DATA/pos-eng-5000.data.csv\")"
   ]
  },
  {
   "cell_type": "code",
   "execution_count": 12,
   "metadata": {},
   "outputs": [
    {
     "output_type": "execute_result",
     "data": {
      "text/plain": [
       "           a1         a2         a3         a4         a5          a6  \\\n",
       "0           _          _          _        The  cafeteria     remains   \n",
       "1           _          _        The  cafeteria    remains      closed   \n",
       "2           _        The  cafeteria    remains     closed      PERIOD   \n",
       "3         The  cafeteria    remains     closed     PERIOD           _   \n",
       "4   cafeteria    remains     closed     PERIOD          _           _   \n",
       "5           _          _          _       Some   analysts      argued   \n",
       "6           _          _       Some   analysts     argued        that   \n",
       "7           _       Some   analysts     argued       that       there   \n",
       "8        Some   analysts     argued       that      there          wo   \n",
       "9    analysts     argued       that      there         wo        nSQt   \n",
       "10     argued       that      there         wo       nSQt          be   \n",
       "11       that      there         wo       nSQt         be           a   \n",
       "12      there         wo       nSQt         be          a      flurry   \n",
       "13         wo       nSQt         be          a     flurry          of   \n",
       "14       nSQt         be          a     flurry         of   takeovers   \n",
       "15         be          a     flurry         of  takeovers     because   \n",
       "16          a     flurry         of  takeovers    because         the   \n",
       "17     flurry         of  takeovers    because        the    industry   \n",
       "18         of  takeovers    because        the   industry         SQs   \n",
       "19  takeovers    because        the   industry        SQs  continuing   \n",
       "\n",
       "                    a7   class  \n",
       "0               closed      DT  \n",
       "1               PERIOD      NN  \n",
       "2                    _     VBZ  \n",
       "3                    _      JJ  \n",
       "4                    _  PERIOD  \n",
       "5                 that      DT  \n",
       "6                there     NNS  \n",
       "7                   wo     VBD  \n",
       "8                 nSQt      IN  \n",
       "9                   be      EX  \n",
       "10                   a      MD  \n",
       "11              flurry      RB  \n",
       "12                  of      VB  \n",
       "13           takeovers      DT  \n",
       "14             because      NN  \n",
       "15                 the      IN  \n",
       "16            industry     NNS  \n",
       "17                 SQs      IN  \n",
       "18          continuing      DT  \n",
       "19  capacity-expansion      NN  "
      ],
      "text/html": "<div>\n<style scoped>\n    .dataframe tbody tr th:only-of-type {\n        vertical-align: middle;\n    }\n\n    .dataframe tbody tr th {\n        vertical-align: top;\n    }\n\n    .dataframe thead th {\n        text-align: right;\n    }\n</style>\n<table border=\"1\" class=\"dataframe\">\n  <thead>\n    <tr style=\"text-align: right;\">\n      <th></th>\n      <th>a1</th>\n      <th>a2</th>\n      <th>a3</th>\n      <th>a4</th>\n      <th>a5</th>\n      <th>a6</th>\n      <th>a7</th>\n      <th>class</th>\n    </tr>\n  </thead>\n  <tbody>\n    <tr>\n      <th>0</th>\n      <td>_</td>\n      <td>_</td>\n      <td>_</td>\n      <td>The</td>\n      <td>cafeteria</td>\n      <td>remains</td>\n      <td>closed</td>\n      <td>DT</td>\n    </tr>\n    <tr>\n      <th>1</th>\n      <td>_</td>\n      <td>_</td>\n      <td>The</td>\n      <td>cafeteria</td>\n      <td>remains</td>\n      <td>closed</td>\n      <td>PERIOD</td>\n      <td>NN</td>\n    </tr>\n    <tr>\n      <th>2</th>\n      <td>_</td>\n      <td>The</td>\n      <td>cafeteria</td>\n      <td>remains</td>\n      <td>closed</td>\n      <td>PERIOD</td>\n      <td>_</td>\n      <td>VBZ</td>\n    </tr>\n    <tr>\n      <th>3</th>\n      <td>The</td>\n      <td>cafeteria</td>\n      <td>remains</td>\n      <td>closed</td>\n      <td>PERIOD</td>\n      <td>_</td>\n      <td>_</td>\n      <td>JJ</td>\n    </tr>\n    <tr>\n      <th>4</th>\n      <td>cafeteria</td>\n      <td>remains</td>\n      <td>closed</td>\n      <td>PERIOD</td>\n      <td>_</td>\n      <td>_</td>\n      <td>_</td>\n      <td>PERIOD</td>\n    </tr>\n    <tr>\n      <th>5</th>\n      <td>_</td>\n      <td>_</td>\n      <td>_</td>\n      <td>Some</td>\n      <td>analysts</td>\n      <td>argued</td>\n      <td>that</td>\n      <td>DT</td>\n    </tr>\n    <tr>\n      <th>6</th>\n      <td>_</td>\n      <td>_</td>\n      <td>Some</td>\n      <td>analysts</td>\n      <td>argued</td>\n      <td>that</td>\n      <td>there</td>\n      <td>NNS</td>\n    </tr>\n    <tr>\n      <th>7</th>\n      <td>_</td>\n      <td>Some</td>\n      <td>analysts</td>\n      <td>argued</td>\n      <td>that</td>\n      <td>there</td>\n      <td>wo</td>\n      <td>VBD</td>\n    </tr>\n    <tr>\n      <th>8</th>\n      <td>Some</td>\n      <td>analysts</td>\n      <td>argued</td>\n      <td>that</td>\n      <td>there</td>\n      <td>wo</td>\n      <td>nSQt</td>\n      <td>IN</td>\n    </tr>\n    <tr>\n      <th>9</th>\n      <td>analysts</td>\n      <td>argued</td>\n      <td>that</td>\n      <td>there</td>\n      <td>wo</td>\n      <td>nSQt</td>\n      <td>be</td>\n      <td>EX</td>\n    </tr>\n    <tr>\n      <th>10</th>\n      <td>argued</td>\n      <td>that</td>\n      <td>there</td>\n      <td>wo</td>\n      <td>nSQt</td>\n      <td>be</td>\n      <td>a</td>\n      <td>MD</td>\n    </tr>\n    <tr>\n      <th>11</th>\n      <td>that</td>\n      <td>there</td>\n      <td>wo</td>\n      <td>nSQt</td>\n      <td>be</td>\n      <td>a</td>\n      <td>flurry</td>\n      <td>RB</td>\n    </tr>\n    <tr>\n      <th>12</th>\n      <td>there</td>\n      <td>wo</td>\n      <td>nSQt</td>\n      <td>be</td>\n      <td>a</td>\n      <td>flurry</td>\n      <td>of</td>\n      <td>VB</td>\n    </tr>\n    <tr>\n      <th>13</th>\n      <td>wo</td>\n      <td>nSQt</td>\n      <td>be</td>\n      <td>a</td>\n      <td>flurry</td>\n      <td>of</td>\n      <td>takeovers</td>\n      <td>DT</td>\n    </tr>\n    <tr>\n      <th>14</th>\n      <td>nSQt</td>\n      <td>be</td>\n      <td>a</td>\n      <td>flurry</td>\n      <td>of</td>\n      <td>takeovers</td>\n      <td>because</td>\n      <td>NN</td>\n    </tr>\n    <tr>\n      <th>15</th>\n      <td>be</td>\n      <td>a</td>\n      <td>flurry</td>\n      <td>of</td>\n      <td>takeovers</td>\n      <td>because</td>\n      <td>the</td>\n      <td>IN</td>\n    </tr>\n    <tr>\n      <th>16</th>\n      <td>a</td>\n      <td>flurry</td>\n      <td>of</td>\n      <td>takeovers</td>\n      <td>because</td>\n      <td>the</td>\n      <td>industry</td>\n      <td>NNS</td>\n    </tr>\n    <tr>\n      <th>17</th>\n      <td>flurry</td>\n      <td>of</td>\n      <td>takeovers</td>\n      <td>because</td>\n      <td>the</td>\n      <td>industry</td>\n      <td>SQs</td>\n      <td>IN</td>\n    </tr>\n    <tr>\n      <th>18</th>\n      <td>of</td>\n      <td>takeovers</td>\n      <td>because</td>\n      <td>the</td>\n      <td>industry</td>\n      <td>SQs</td>\n      <td>continuing</td>\n      <td>DT</td>\n    </tr>\n    <tr>\n      <th>19</th>\n      <td>takeovers</td>\n      <td>because</td>\n      <td>the</td>\n      <td>industry</td>\n      <td>SQs</td>\n      <td>continuing</td>\n      <td>capacity-expansion</td>\n      <td>NN</td>\n    </tr>\n  </tbody>\n</table>\n</div>"
     },
     "metadata": {},
     "execution_count": 12
    }
   ],
   "source": [
    "df.head(n=20)"
   ]
  },
  {
   "source": [
    "# get POS labels\n",
    "labels = np.asarray(df['class'].astype(\"category\").cat.codes.tolist())"
   ],
   "cell_type": "code",
   "metadata": {},
   "execution_count": 13,
   "outputs": []
  },
  {
   "cell_type": "code",
   "execution_count": 14,
   "metadata": {},
   "outputs": [],
   "source": [
    "from sklearn import preprocessing\n",
    "\n",
    "# drop the 'class' column - don't use it as a feature\n",
    "x_vals = df.drop(columns=['class']).values\n",
    "x_vals.tolist()\n",
    "\n",
    "# Initialize the encoder\n",
    "le = preprocessing.LabelEncoder()\n",
    "le.fit(x_vals.ravel())\n",
    "x = le.transform(x_vals.ravel())\n",
    "x = x.reshape(5000, -1)"
   ]
  },
  {
   "cell_type": "code",
   "execution_count": 15,
   "metadata": {},
   "outputs": [],
   "source": [
    "# build the classifier (clf param) and train it on the xtrain ytrain data\n",
    "def buildClassifiers(clf, xtrain, xtest, ytrain, ytest):\n",
    "    clf.fit(xtrain, ytrain)\n",
    "    ypred = clf.predict(xtest)\n",
    "    # Use the test data to calculate the performance metrics\n",
    "    # We can switch average to \"macro\" to see different values\n",
    "    f1 = f1_score(ytest, ypred, average=\"micro\")\n",
    "    precision = precision_score(ytest, ypred, average=\"micro\")\n",
    "    recall = recall_score(ytest, ypred, average=\"micro\")\n",
    "    accuracy = accuracy_score(ytest, ypred)\n",
    "\n",
    "    return f1, precision, recall, accuracy"
   ]
  },
  {
   "cell_type": "code",
   "execution_count": 16,
   "metadata": {
    "tags": []
   },
   "outputs": [
    {
     "output_type": "stream",
     "name": "stdout",
     "text": [
      "Now classifying Dummy\n",
      "\tAverage f1 for Dummy:\t\t 0.1296\n",
      "\tAverage precision for Dummy:\t 0.1296\n",
      "\tAverage recall for Dummy:\t\t 0.1296\n",
      "\tAverage accuracy for Dummy:\t 0.1296\n",
      "Now classifying Naive_Bayes\n",
      "\tAverage f1 for Naive_Bayes:\t\t 0.3298\n",
      "\tAverage precision for Naive_Bayes:\t 0.3298\n",
      "\tAverage recall for Naive_Bayes:\t\t 0.3298\n",
      "\tAverage accuracy for Naive_Bayes:\t 0.3298\n",
      "Now classifying Decision_Tree\n",
      "\tAverage f1 for Decision_Tree:\t\t 0.6085999999999999\n",
      "\tAverage precision for Decision_Tree:\t 0.6085999999999999\n",
      "\tAverage recall for Decision_Tree:\t\t 0.6085999999999999\n",
      "\tAverage accuracy for Decision_Tree:\t 0.6085999999999999\n"
     ]
    }
   ],
   "source": [
    "# Baseline model only implements these three\n",
    "names = ['Dummy', 'Naive_Bayes', 'Decision_Tree']\n",
    "classifiers = [DummyClassifier(), GaussianNB(), DecisionTreeClassifier(random_state=0)]\n",
    "\n",
    "for name, clf in zip(names, classifiers):\n",
    "    print(\"Now classifying\", name)\n",
    "\n",
    "    # Fold the data five times\n",
    "    kf = KFold(n_splits = 5)\n",
    "    fold_counter = 0\n",
    "    a_list, b_list, c_list, d_list = list(), list(), list(), list()\n",
    "    # Split the data so that a different portion is used for testing and training each time\n",
    "    for train_i, test_i in kf.split(x):\n",
    "        # print(train_i)\n",
    "        # print(test_i)\n",
    "        xtrain, xtest = x[train_i], x[test_i]\n",
    "        ytrain, ytest = labels[train_i], labels[test_i]\n",
    "\n",
    "        f1, precision, recall, accuracy = buildClassifiers(clf, xtrain, xtest, ytrain, ytest)\n",
    "        a_list.append(f1)\n",
    "        b_list.append(precision)\n",
    "        c_list.append(recall)\n",
    "        d_list.append(accuracy)\n",
    "\n",
    "    # Just print the performance - we won't use this for the table\n",
    "    print(\"\\tAverage f1 for {}:\\t\\t\".format(name), np.mean(a_list))\n",
    "    print(\"\\tAverage precision for {}:\\t\".format(name), np.mean(b_list))\n",
    "    print(\"\\tAverage recall for {}:\\t\\t\".format(name), np.mean(c_list))\n",
    "    print(\"\\tAverage accuracy for {}:\\t\".format(name), np.mean(d_list))\n"
   ]
  },
  {
   "cell_type": "code",
   "execution_count": null,
   "metadata": {},
   "outputs": [],
   "source": []
  }
 ]
}